{
  "nbformat": 4,
  "nbformat_minor": 0,
  "metadata": {
    "colab": {
      "name": "Python-Basics.ipynb",
      "provenance": [],
      "collapsed_sections": [],
      "mount_file_id": "1KPKxnaWXHorHkuTX7GtKPE3JWgQsoVeT",
      "authorship_tag": "ABX9TyOoT02bAlI0wju7MiIf/4fd",
      "include_colab_link": true
    },
    "kernelspec": {
      "name": "python3",
      "display_name": "Python 3"
    },
    "language_info": {
      "name": "python"
    }
  },
  "cells": [
    {
      "cell_type": "markdown",
      "metadata": {
        "id": "view-in-github",
        "colab_type": "text"
      },
      "source": [
        "<a href=\"https://colab.research.google.com/github/jpaulorc/machine_learning/blob/main/Python_Basics.ipynb\" target=\"_parent\"><img src=\"https://colab.research.google.com/assets/colab-badge.svg\" alt=\"Open In Colab\"/></a>"
      ]
    },
    {
      "cell_type": "markdown",
      "metadata": {
        "id": "-Q1LtWHnNs5h"
      },
      "source": [
        "Programing Languages used for Machine Learning:\n",
        "1. Python\n",
        "2. R"
      ]
    },
    {
      "cell_type": "code",
      "metadata": {
        "id": "74v2VsY0OBtW"
      },
      "source": [
        ""
      ],
      "execution_count": null,
      "outputs": []
    }
  ]
}