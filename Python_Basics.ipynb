{
  "nbformat": 4,
  "nbformat_minor": 0,
  "metadata": {
    "colab": {
      "name": "Python-Basics.ipynb",
      "provenance": [],
      "collapsed_sections": [],
      "mount_file_id": "1KPKxnaWXHorHkuTX7GtKPE3JWgQsoVeT",
      "authorship_tag": "ABX9TyNKcRqtePGjScbt4WvylvsY",
      "include_colab_link": true
    },
    "kernelspec": {
      "name": "python3",
      "display_name": "Python 3"
    },
    "language_info": {
      "name": "python"
    }
  },
  "cells": [
    {
      "cell_type": "markdown",
      "metadata": {
        "id": "view-in-github",
        "colab_type": "text"
      },
      "source": [
        "<a href=\"https://colab.research.google.com/github/jpaulorc/machine_learning/blob/main/Python_Basics.ipynb\" target=\"_parent\"><img src=\"https://colab.research.google.com/assets/colab-badge.svg\" alt=\"Open In Colab\"/></a>"
      ]
    },
    {
      "cell_type": "markdown",
      "metadata": {
        "id": "-Q1LtWHnNs5h"
      },
      "source": [
        "Programing Languages used for Machine Learning:\n",
        "1. Python\n",
        "2. R"
      ]
    },
    {
      "cell_type": "code",
      "metadata": {
        "id": "74v2VsY0OBtW",
        "colab": {
          "base_uri": "https://localhost:8080/"
        },
        "outputId": "5c89ca6c-36ce-4c7f-dcac-34ee6646233f"
      },
      "source": [
        "def factorial(x):\n",
        "  if x == 1:\n",
        "    return x\n",
        "  else:\n",
        "    return x * factorial(x-1)\n",
        "\n",
        "print(factorial(5))"
      ],
      "execution_count": 6,
      "outputs": [
        {
          "output_type": "stream",
          "text": [
            "120\n"
          ],
          "name": "stdout"
        }
      ]
    },
    {
      "cell_type": "code",
      "metadata": {
        "id": "tkCkccoSPr8c"
      },
      "source": [
        ""
      ],
      "execution_count": null,
      "outputs": []
    }
  ]
}